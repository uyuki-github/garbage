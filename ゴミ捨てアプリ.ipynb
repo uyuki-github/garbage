{
 "cells": [
  {
   "cell_type": "code",
   "execution_count": 1,
   "metadata": {},
   "outputs": [
    {
     "name": "stdout",
     "output_type": "stream",
     "text": [
      "Collecting line-bot-sdk\n",
      "  Downloading line_bot_sdk-2.0.1-py2.py3-none-any.whl (83 kB)\n",
      "\u001b[K     |████████████████████████████████| 83 kB 1.3 MB/s eta 0:00:01\n",
      "\u001b[?25hRequirement already satisfied: requests>=2.0 in /opt/anaconda3/lib/python3.8/site-packages (from line-bot-sdk) (2.24.0)\n",
      "Requirement already satisfied: future in /opt/anaconda3/lib/python3.8/site-packages (from line-bot-sdk) (0.18.2)\n",
      "Collecting aiohttp>=3.7.4\n",
      "  Downloading aiohttp-3.8.1-cp38-cp38-macosx_10_9_x86_64.whl (574 kB)\n",
      "\u001b[K     |████████████████████████████████| 574 kB 9.8 MB/s eta 0:00:01\n",
      "\u001b[?25hRequirement already satisfied: urllib3!=1.25.0,!=1.25.1,<1.26,>=1.21.1 in /opt/anaconda3/lib/python3.8/site-packages (from requests>=2.0->line-bot-sdk) (1.25.9)\n",
      "Requirement already satisfied: chardet<4,>=3.0.2 in /opt/anaconda3/lib/python3.8/site-packages (from requests>=2.0->line-bot-sdk) (3.0.4)\n",
      "Requirement already satisfied: idna<3,>=2.5 in /opt/anaconda3/lib/python3.8/site-packages (from requests>=2.0->line-bot-sdk) (2.10)\n",
      "Requirement already satisfied: certifi>=2017.4.17 in /opt/anaconda3/lib/python3.8/site-packages (from requests>=2.0->line-bot-sdk) (2020.6.20)\n",
      "Collecting frozenlist>=1.1.1\n",
      "  Downloading frozenlist-1.3.0-cp38-cp38-macosx_10_9_x86_64.whl (36 kB)\n",
      "Collecting aiosignal>=1.1.2\n",
      "  Downloading aiosignal-1.2.0-py3-none-any.whl (8.2 kB)\n",
      "Collecting charset-normalizer<3.0,>=2.0\n",
      "  Downloading charset_normalizer-2.0.10-py3-none-any.whl (39 kB)\n",
      "Requirement already satisfied: attrs>=17.3.0 in /opt/anaconda3/lib/python3.8/site-packages (from aiohttp>=3.7.4->line-bot-sdk) (19.3.0)\n",
      "Collecting multidict<7.0,>=4.5\n",
      "  Downloading multidict-6.0.0-cp38-cp38-macosx_10_9_x86_64.whl (28 kB)\n",
      "Collecting yarl<2.0,>=1.0\n",
      "  Downloading yarl-1.7.2-cp38-cp38-macosx_10_9_x86_64.whl (121 kB)\n",
      "\u001b[K     |████████████████████████████████| 121 kB 12.3 MB/s eta 0:00:01\n",
      "\u001b[?25hCollecting async-timeout<5.0,>=4.0.0a3\n",
      "  Downloading async_timeout-4.0.2-py3-none-any.whl (5.8 kB)\n",
      "Installing collected packages: frozenlist, aiosignal, charset-normalizer, multidict, yarl, async-timeout, aiohttp, line-bot-sdk\n",
      "Successfully installed aiohttp-3.8.1 aiosignal-1.2.0 async-timeout-4.0.2 charset-normalizer-2.0.10 frozenlist-1.3.0 line-bot-sdk-2.0.1 multidict-6.0.0 yarl-1.7.2\n",
      "Note: you may need to restart the kernel to use updated packages.\n"
     ]
    }
   ],
   "source": [
    "pip install line-bot-sdk"
   ]
  },
  {
   "cell_type": "code",
   "execution_count": 2,
   "metadata": {},
   "outputs": [],
   "source": [
    "import json"
   ]
  },
  {
   "cell_type": "code",
   "execution_count": 4,
   "metadata": {},
   "outputs": [],
   "source": [
    "file = open('info.json', 'r')\n",
    "info = json.load(file)"
   ]
  },
  {
   "cell_type": "code",
   "execution_count": 5,
   "metadata": {},
   "outputs": [],
   "source": [
    "from linebot import LineBotApi\n",
    "from linebot.models import TextSendMessage"
   ]
  },
  {
   "cell_type": "code",
   "execution_count": 6,
   "metadata": {},
   "outputs": [],
   "source": [
    "CHANNEL_ACCESS_TOKEN = info['CHANNEL_ACCESS_TOKEN']\n",
    "line_bot_api = LineBotApi(CHANNEL_ACCESS_TOKEN)"
   ]
  },
  {
   "cell_type": "code",
   "execution_count": 27,
   "metadata": {},
   "outputs": [],
   "source": [
    "def burnable():\n",
    "    USER_ID = info['USER_ID']\n",
    "    messages = TextSendMessage(text=\"おはよう〜！ \\n今日は燃えるゴミの日やで〜！\\n捨てるの忘れんようにな！\" )\n",
    "    line_bot_api.push_message(USER_ID, messages=messages)\n",
    "    \n",
    "\n",
    "if __name__ == \"__main__\":\n",
    "    burnable()"
   ]
  },
  {
   "cell_type": "code",
   "execution_count": 14,
   "metadata": {},
   "outputs": [],
   "source": [
    "def pet_bottles():\n",
    "    USER_ID = info['USER_ID']\n",
    "    messages = TextSendMessage(text=\"おはよう〜！ \\n今日は缶、瓶、ペットボトル、プラスチックの日やで〜！\\n捨てるの忘れんようにな！\" )\n",
    "    line_bot_api.push_message(USER_ID, messages=messages)\n",
    "    \n",
    "\n",
    "if __name__ == \"__pet_bottles__\":\n",
    "    pet_bottles()"
   ]
  },
  {
   "cell_type": "code",
   "execution_count": 20,
   "metadata": {},
   "outputs": [],
   "source": [
    "def unburnable():\n",
    "    USER_ID = info['USER_ID']\n",
    "    messages = TextSendMessage(text=\"おはよう〜！ \\n今日は燃えないゴミ、紙ゴミ、有害危険ゴミ、繊維ゴミの日やで〜！\\n捨てるの忘れんようにな！\" )\n",
    "    line_bot_api.push_message(USER_ID, messages=messages)\n",
    "    \n",
    "def discription():\n",
    "    USER_ID = info['USER_ID']\n",
    "    message1 = TextSendMessage(text=\"有害危険ゴミは、「乾電池、蛍光管、水銀体温計、ライター、スプレーかん・カートリッジ式ボンベ」とかやで〜\")\n",
    "    line_bot_api.push_message(USER_ID, messages=message1)\n",
    "    \n",
    "\n",
    "if __name__ == \"__unburnable__\":\n",
    "    unburnable()\n",
    "    discription()"
   ]
  },
  {
   "cell_type": "code",
   "execution_count": 22,
   "metadata": {},
   "outputs": [],
   "source": [
    "def remind_burnable():\n",
    "    USER_ID = info['USER_ID']\n",
    "    burnable = '燃えるゴミ'\n",
    "    unburnable = '燃えないゴミ、紙ゴミ、有害危険ゴミ、繊維ゴミ'\n",
    "    pet_bottles = '缶、瓶、ペットボトル、プラスチック'\n",
    "    messages = TextSendMessage(text=\"お疲れさま〜！ \\n明日は\" + burnable + \"の日やで〜！\\n準備しときなよ〜！\" )\n",
    "    line_bot_api.push_message(USER_ID, messages=messages)\n",
    "    \n",
    "\n",
    "if __name__ == \"__remind_burnable__\":\n",
    "    remind()"
   ]
  },
  {
   "cell_type": "code",
   "execution_count": 23,
   "metadata": {},
   "outputs": [],
   "source": [
    "def remind_unburnable():\n",
    "    USER_ID = info['USER_ID']\n",
    "    unburnable = '燃えないゴミ、紙ゴミ、有害危険ゴミ、繊維ゴミ'\n",
    "    messages = TextSendMessage(text=\"お疲れさま〜！ \\n明日は\" + unburnable + \"の日やで〜！\\n準備しときなよ〜！\" )\n",
    "    line_bot_api.push_message(USER_ID, messages=messages)\n",
    "    \n",
    "\n",
    "if __name__ == \"__remind_unburnable__\":\n",
    "    remind_unburnable()"
   ]
  },
  {
   "cell_type": "code",
   "execution_count": 25,
   "metadata": {},
   "outputs": [],
   "source": [
    "def remind_pet_bottles():\n",
    "    USER_ID = info['USER_ID']\n",
    "    pet_bottles = '缶、瓶、ペットボトル、プラスチック'\n",
    "    messages = TextSendMessage(text=\"お疲れさま〜！ \\n明日は\" + pet_bottles + \"の日やで〜！\\n準備しときなよ〜！\" )\n",
    "    line_bot_api.push_message(USER_ID, messages=messages)\n",
    "    \n",
    "\n",
    "if __name__ == \"__remind_pet_bottles__\":\n",
    "    remind_pet_bottles()"
   ]
  },
  {
   "cell_type": "code",
   "execution_count": null,
   "metadata": {},
   "outputs": [],
   "source": []
  }
 ],
 "metadata": {
  "kernelspec": {
   "display_name": "Python 3",
   "language": "python",
   "name": "python3"
  },
  "language_info": {
   "codemirror_mode": {
    "name": "ipython",
    "version": 3
   },
   "file_extension": ".py",
   "mimetype": "text/x-python",
   "name": "python",
   "nbconvert_exporter": "python",
   "pygments_lexer": "ipython3",
   "version": "3.8.3"
  }
 },
 "nbformat": 4,
 "nbformat_minor": 4
}
